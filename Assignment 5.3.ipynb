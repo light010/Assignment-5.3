{
 "cells": [
  {
   "cell_type": "markdown",
   "metadata": {},
   "source": [
    "## Calculate F Test for given \n",
    "**set1 - ** $10, 20, 30, 40, 50$ and **set2 - ** $5,10,15, 20, 25.$<br>\n",
    "For $10, 20, 30, 40, 50:$"
   ]
  },
  {
   "cell_type": "markdown",
   "metadata": {},
   "source": [
    "**null hypothesis :-** Both the data set have same varience.<br>\n",
    "**Alternate hypothesis :-** Both the data set have different varience."
   ]
  },
  {
   "cell_type": "markdown",
   "metadata": {},
   "source": [
    "**<u>step-1</u> :- calculating mean**-\n",
    "$$\\bar{X} = \\frac{1}{n} \\sum_{i=1}^n X_i$$"
   ]
  },
  {
   "cell_type": "code",
   "execution_count": 8,
   "metadata": {},
   "outputs": [
    {
     "data": {
      "text/plain": [
       "30.0"
      ]
     },
     "execution_count": 8,
     "metadata": {},
     "output_type": "execute_result"
    }
   ],
   "source": [
    "mean_set1 = (10 + 20 + 30 + 40 + 50)/5       #hear 5 is the sample size\n",
    "mean_set1"
   ]
  },
  {
   "cell_type": "code",
   "execution_count": 9,
   "metadata": {},
   "outputs": [
    {
     "data": {
      "text/plain": [
       "15.0"
      ]
     },
     "execution_count": 9,
     "metadata": {},
     "output_type": "execute_result"
    }
   ],
   "source": [
    "mean_set2 = (5 + 10 + 15 + 20 + 25)/5       #hear 5 is the sample size\n",
    "mean_set2"
   ]
  },
  {
   "cell_type": "markdown",
   "metadata": {},
   "source": [
    "**<u>step-2</u> :- calculating varience**-\n",
    "$$s^2 = \\frac{1}{n-1} \\sum_{i=1}^n (X_i - \\bar{X})^2$$"
   ]
  },
  {
   "cell_type": "code",
   "execution_count": 10,
   "metadata": {},
   "outputs": [
    {
     "data": {
      "text/plain": [
       "250.0"
      ]
     },
     "execution_count": 10,
     "metadata": {},
     "output_type": "execute_result"
    }
   ],
   "source": [
    "var_set1 = ((10-mean_set1)**2 + (20-mean_set1)**2 + (30-mean_set1)**2 + (40-mean_set1)**2 +(50-mean_set1)**2) / (5-1)  \n",
    "\n",
    "var_set1                                                                # 5 is the sample size"
   ]
  },
  {
   "cell_type": "code",
   "execution_count": 11,
   "metadata": {},
   "outputs": [
    {
     "data": {
      "text/plain": [
       "62.5"
      ]
     },
     "execution_count": 11,
     "metadata": {},
     "output_type": "execute_result"
    }
   ],
   "source": [
    "var_set2 = ((5-mean_set2)**2 + (10-mean_set2)**2 + (15-mean_set2)**2 + (20-mean_set2)**2 +(25-mean_set2)**2) / (5-1)  \n",
    "\n",
    "var_set2                                                                # 5 is the sample size"
   ]
  },
  {
   "cell_type": "markdown",
   "metadata": {},
   "source": [
    "\n",
    "**<u>step-3</u> :- calculating f-value**\n",
    "$$f_{value} = \\frac{(\\sigma_1)^2}{(\\sigma_2)^2}$$"
   ]
  },
  {
   "cell_type": "code",
   "execution_count": 13,
   "metadata": {},
   "outputs": [
    {
     "data": {
      "text/plain": [
       "4.0"
      ]
     },
     "execution_count": 13,
     "metadata": {},
     "output_type": "execute_result"
    }
   ],
   "source": [
    "f_value = (var_set1) / (var_set2)\n",
    "f_value"
   ]
  },
  {
   "cell_type": "markdown",
   "metadata": {},
   "source": [
    "\n",
    "**<u>step-4 </u> :- calculating degree of freedom**\n",
    "$$ d.o.f = (sample size) - 1$$"
   ]
  },
  {
   "cell_type": "code",
   "execution_count": 17,
   "metadata": {},
   "outputs": [],
   "source": [
    "dof_1 = (5 - 1)\n",
    "dof_2 = (5 - 1)"
   ]
  },
  {
   "cell_type": "markdown",
   "metadata": {},
   "source": [
    "\n",
    "**<u>step-5</u>:- calculating f-table**\n",
    "\n",
    "by using the degree of freedom of both the given set we find that \n",
    "$$f_{table} = 6.39$$"
   ]
  },
  {
   "cell_type": "markdown",
   "metadata": {},
   "source": [
    "\n",
    "**<u>step-6</u> :- comparing f-value and f-table**\n",
    "$$f_{value} \\lt f_{table}$$"
   ]
  },
  {
   "cell_type": "markdown",
   "metadata": {},
   "source": [
    "\n",
    "**<u>Result</u>** :- As f_value is less than the f_table so we can not reject the null hypothesis <br>\n",
    "Thus the variance of both the data set is considered to be equal"
   ]
  },
  {
   "cell_type": "code",
   "execution_count": null,
   "metadata": {
    "collapsed": true
   },
   "outputs": [],
   "source": []
  }
 ],
 "metadata": {
  "kernelspec": {
   "display_name": "Python 3",
   "language": "python",
   "name": "python3"
  },
  "language_info": {
   "codemirror_mode": {
    "name": "ipython",
    "version": 3
   },
   "file_extension": ".py",
   "mimetype": "text/x-python",
   "name": "python",
   "nbconvert_exporter": "python",
   "pygments_lexer": "ipython3",
   "version": "3.6.3"
  }
 },
 "nbformat": 4,
 "nbformat_minor": 2
}
